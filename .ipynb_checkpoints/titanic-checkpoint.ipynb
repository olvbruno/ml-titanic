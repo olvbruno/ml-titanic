{
 "cells": [
  {
   "cell_type": "markdown",
   "id": "ecd3c406-13a7-41cd-b18d-d4babdd9376f",
   "metadata": {
    "tags": []
   },
   "source": [
    "# Titanic"
   ]
  },
  {
   "cell_type": "markdown",
   "id": "6e80ce83-cbf3-4387-8cbf-11ce0fffdd1a",
   "metadata": {},
   "source": [
    "**Autor:** Bruno de Oliveira\n",
    "\n",
    "**Descrição:**<br>\n",
    "O desenvolviemnto de modelos analíticos precisa de dados bem estruturados e confiáveis para que possam servir de base para a tomada de decisão sobre as regras de negócio.<br>\n",
    "\n",
    "**Objetivos:**<br>\n",
    "Desenvolver um banco de dados analítico relacional para alimentar modelos e processo de analytics.\n",
    "\n",
    "**TO DO list [✔️]:**\n",
    "1. Importar dados ✔️\n",
    "2. Criar documentação dos campos\n",
    "3. EDA"
   ]
  },
  {
   "cell_type": "markdown",
   "id": "61f2cf84-3455-4a64-b182-b833bd49df7e",
   "metadata": {},
   "source": [
    "<a id=\"top\"></a>\n",
    "\n",
    "<div class=\"list-group\" id=\"list-tab\" role=\"tablist\">\n",
    "<h3 class=\"list-group-item list-group-item-action active\" data-toggle=\"list\" style='color:white; background:#EAA6D1; border:0' role=\"tab\" aria-controls=\"home\"><center>Quick Navigation</center></h3>\n",
    "\n",
    "* <a href='#section1'> Importar Dados</a>\n"
   ]
  },
  {
   "cell_type": "code",
   "execution_count": 1,
   "id": "5739249d-e3cb-48e9-92bc-4bf437071669",
   "metadata": {},
   "outputs": [
    {
     "data": {
      "text/html": [
       "<style>.container { width:95% !important; } </style>"
      ],
      "text/plain": [
       "<IPython.core.display.HTML object>"
      ]
     },
     "metadata": {},
     "output_type": "display_data"
    }
   ],
   "source": [
    "# Bibliotecas utilizadas para análise\n",
    "import datetime\n",
    "import re\n",
    "\n",
    "import numpy as np\n",
    "from openpyxl import Workbook, load_workbook\n",
    "import matplotlib.pyplot as plt\n",
    "import pandas as pd\n",
    "from pprint import pprint \n",
    "import seaborn as sns\n",
    "\n",
    "# Configurações do Pandas\n",
    "pd.set_option(\"display.float_format\", lambda x: \"%.5f\" % x)\n",
    "pd.set_option('display.max_columns', 500)\n",
    "pd.set_option('display.max_rows', 200)\n",
    "\n",
    "# Ajustar tamanho do notebook ao tamanho da janela\n",
    "from IPython.core.display import display, HTML\n",
    "\n",
    "display(HTML(\"<style>.container { width:95% !important; } </style>\"))\n",
    "\n",
    "# Imprimir todos valores da célula, não somente o último\n",
    "from IPython.core.interactiveshell import InteractiveShell\n",
    "\n",
    "# transforma células de código em markdown\n",
    "from IPython.display import Markdown as md\n",
    "\n",
    "InteractiveShell.ast_node_interactivity = \"all\""
   ]
  },
  {
   "cell_type": "markdown",
   "id": "7144bdeb-9859-43eb-9079-289ef37de8ad",
   "metadata": {},
   "source": []
  },
  {
   "cell_type": "markdown",
   "id": "dbcdf4e5-c1d0-4365-b1fc-034667d18a2a",
   "metadata": {},
   "source": [
    "*markdown*<br>\n",
    "\n",
    "**markdown**\n",
    ">markdown\n",
    "\n",
    "`code` \n",
    "\n",
    "---\n",
    "\n",
    "1. lista\n",
    "2. lista\n",
    "\n",
    "* lista\n",
    "\n",
    "__[text link](https://www.coursera.org/in-progress)__\n",
    "\n",
    "\n",
    "| Variável| Definição | Chave |\n",
    "| --- | --- | --- |\n",
    "|sobreviveu| \tSe sobreviveu |\t0 = Não, 1 = Sim|"
   ]
  },
  {
   "cell_type": "markdown",
   "id": "0f360a52-1a5a-4a89-bf5f-129cc6ff8ac7",
   "metadata": {},
   "source": [
    "<details><summary>hide</summary>\n",
    "    <br>\n",
    "\n",
    "    Exemplo"
   ]
  },
  {
   "cell_type": "markdown",
   "id": "131bf47c-9142-45f8-9ca6-3efae6178489",
   "metadata": {},
   "source": [
    "# 1. Importar Dados"
   ]
  },
  {
   "cell_type": "markdown",
   "id": "b01714f7-9520-494e-b4fc-11e604df3852",
   "metadata": {},
   "source": [
    "| Variável| Definição | Chave |\n",
    "| --- | --- | --- |\n",
    "|sobreviveu| \tSe sobreviveu |\t0 = Não, 1 = Sim|\n",
    "|classe| Classe de passagem\t| \t1 = Primeira, 2 = Segunda, 3 = Terceira|\n",
    "|sexo| \tSexo |\t|\n",
    "|idade| \tIdade em anos||\n",
    "|sibsp| \tNúmero de irmãos / cônjuges a bordo do Titanic ||\n",
    "|parch| \tNúmero de pais / filhos a bordo do Titanic||\n",
    "|num_passagem| \tNúmero da passagem||\n",
    "|tarifa| \tTarifa de passageiro||\n",
    "|cabine| \tNúmero da cabine||\n",
    "|local_embarque| \tPorto de embarcação| \tC = Cherbourg, Q = Queenstown, S = Southampton|\n",
    "\n",
    "* Notas das variáveis\n",
    "\n",
    "1. classe: proxy para status sócio-econômico\n",
    "2. idade: é decimal caso menor que 1 ano. Se é estimada, está na forma xx.5\n",
    "3. o dataset define relações familiares:\n",
    "    * irmãos: irmão, irmã, meio-irmão, meia-irmã\n",
    "    * cônjuge = marido, esposa (amantes e noivos foram ignorados) \n",
    "4. parch: O conjunto de dados define as relações familiares:\n",
    "    * Pai = mãe, pai\n",
    "    * Criança = filha, filho, enteada\n",
    "    * Algumas crianças viajavam apenas com a babá, portanto parch = 0 para elas."
   ]
  },
  {
   "cell_type": "code",
   "execution_count": 3,
   "id": "c539cf50-a031-48f6-b3f7-0a80f677161b",
   "metadata": {},
   "outputs": [],
   "source": [
    "# tabelas principais\n",
    "df_submission_example = pd.read_csv('data/gender_submission.csv')\n",
    "df_test = pd.read_csv('data/test.csv')\n",
    "df_train= pd.read_csv('data/train.csv')"
   ]
  },
  {
   "cell_type": "code",
   "execution_count": 7,
   "id": "99588dd1-1f41-4c71-9a7e-56ac826970d3",
   "metadata": {},
   "outputs": [
    {
     "data": {
      "text/html": [
       "<div>\n",
       "<style scoped>\n",
       "    .dataframe tbody tr th:only-of-type {\n",
       "        vertical-align: middle;\n",
       "    }\n",
       "\n",
       "    .dataframe tbody tr th {\n",
       "        vertical-align: top;\n",
       "    }\n",
       "\n",
       "    .dataframe thead th {\n",
       "        text-align: right;\n",
       "    }\n",
       "</style>\n",
       "<table border=\"1\" class=\"dataframe\">\n",
       "  <thead>\n",
       "    <tr style=\"text-align: right;\">\n",
       "      <th></th>\n",
       "      <th>id</th>\n",
       "      <th>sobreviveu</th>\n",
       "      <th>classe</th>\n",
       "      <th>nome</th>\n",
       "      <th>sexo</th>\n",
       "      <th>idade</th>\n",
       "      <th>sibsp</th>\n",
       "      <th>parch</th>\n",
       "      <th>num_passagem</th>\n",
       "      <th>tarifa</th>\n",
       "      <th>cabine</th>\n",
       "      <th>local_embarque</th>\n",
       "    </tr>\n",
       "  </thead>\n",
       "  <tbody>\n",
       "    <tr>\n",
       "      <th>0</th>\n",
       "      <td>1</td>\n",
       "      <td>0</td>\n",
       "      <td>3</td>\n",
       "      <td>Braund, Mr. Owen Harris</td>\n",
       "      <td>male</td>\n",
       "      <td>22.00000</td>\n",
       "      <td>1</td>\n",
       "      <td>0</td>\n",
       "      <td>A/5 21171</td>\n",
       "      <td>7.25000</td>\n",
       "      <td>NaN</td>\n",
       "      <td>S</td>\n",
       "    </tr>\n",
       "  </tbody>\n",
       "</table>\n",
       "</div>"
      ],
      "text/plain": [
       "   id  sobreviveu  classe                     nome  sexo    idade  sibsp  \\\n",
       "0   1           0       3  Braund, Mr. Owen Harris  male 22.00000      1   \n",
       "\n",
       "   parch num_passagem  tarifa cabine local_embarque  \n",
       "0      0    A/5 21171 7.25000    NaN              S  "
      ]
     },
     "execution_count": 7,
     "metadata": {},
     "output_type": "execute_result"
    },
    {
     "data": {
      "text/html": [
       "<div>\n",
       "<style scoped>\n",
       "    .dataframe tbody tr th:only-of-type {\n",
       "        vertical-align: middle;\n",
       "    }\n",
       "\n",
       "    .dataframe tbody tr th {\n",
       "        vertical-align: top;\n",
       "    }\n",
       "\n",
       "    .dataframe thead th {\n",
       "        text-align: right;\n",
       "    }\n",
       "</style>\n",
       "<table border=\"1\" class=\"dataframe\">\n",
       "  <thead>\n",
       "    <tr style=\"text-align: right;\">\n",
       "      <th></th>\n",
       "      <th>PassengerId</th>\n",
       "      <th>Pclass</th>\n",
       "      <th>Name</th>\n",
       "      <th>Sex</th>\n",
       "      <th>Age</th>\n",
       "      <th>SibSp</th>\n",
       "      <th>Parch</th>\n",
       "      <th>Ticket</th>\n",
       "      <th>Fare</th>\n",
       "      <th>Cabin</th>\n",
       "      <th>Embarked</th>\n",
       "    </tr>\n",
       "  </thead>\n",
       "  <tbody>\n",
       "    <tr>\n",
       "      <th>0</th>\n",
       "      <td>892</td>\n",
       "      <td>3</td>\n",
       "      <td>Kelly, Mr. James</td>\n",
       "      <td>male</td>\n",
       "      <td>34.50000</td>\n",
       "      <td>0</td>\n",
       "      <td>0</td>\n",
       "      <td>330911</td>\n",
       "      <td>7.82920</td>\n",
       "      <td>NaN</td>\n",
       "      <td>Q</td>\n",
       "    </tr>\n",
       "  </tbody>\n",
       "</table>\n",
       "</div>"
      ],
      "text/plain": [
       "   PassengerId  Pclass              Name   Sex      Age  SibSp  Parch  Ticket  \\\n",
       "0          892       3  Kelly, Mr. James  male 34.50000      0      0  330911   \n",
       "\n",
       "     Fare Cabin Embarked  \n",
       "0 7.82920   NaN        Q  "
      ]
     },
     "execution_count": 7,
     "metadata": {},
     "output_type": "execute_result"
    }
   ],
   "source": [
    "df_train.head(1)\n",
    "df_test.head(1)"
   ]
  },
  {
   "cell_type": "code",
   "execution_count": 8,
   "id": "09eeacaa-a6cd-48db-89b7-43a9a851b546",
   "metadata": {},
   "outputs": [],
   "source": [
    "df_train.columns=[\n",
    "    'id',\n",
    "    'sobreviveu',\n",
    "    'classe',\n",
    "    'nome',\n",
    "    'sexo',\n",
    "    'idade',\n",
    "    'sibsp',\n",
    "    'parch',\n",
    "    'num_passagem',\n",
    "    'tarifa',\n",
    "    'cabine',\n",
    "    'local_embarque'\n",
    "]\n",
    "\n",
    "df_test.columns=[\n",
    "    'id',\n",
    "    'classe',\n",
    "    'nome',\n",
    "    'sexo',\n",
    "    'idade',\n",
    "    'sibsp',\n",
    "    'parch',\n",
    "    'num_passagem',\n",
    "    'tarifa',\n",
    "    'cabine',\n",
    "    'local_embarque'\n",
    "]"
   ]
  },
  {
   "cell_type": "code",
   "execution_count": 9,
   "id": "7698a568-2417-4ecd-bdb1-61848fbdf19b",
   "metadata": {},
   "outputs": [
    {
     "data": {
      "text/html": [
       "<div>\n",
       "<style scoped>\n",
       "    .dataframe tbody tr th:only-of-type {\n",
       "        vertical-align: middle;\n",
       "    }\n",
       "\n",
       "    .dataframe tbody tr th {\n",
       "        vertical-align: top;\n",
       "    }\n",
       "\n",
       "    .dataframe thead th {\n",
       "        text-align: right;\n",
       "    }\n",
       "</style>\n",
       "<table border=\"1\" class=\"dataframe\">\n",
       "  <thead>\n",
       "    <tr style=\"text-align: right;\">\n",
       "      <th></th>\n",
       "      <th>id</th>\n",
       "      <th>sobreviveu</th>\n",
       "      <th>classe</th>\n",
       "      <th>nome</th>\n",
       "      <th>sexo</th>\n",
       "      <th>idade</th>\n",
       "      <th>sibsp</th>\n",
       "      <th>parch</th>\n",
       "      <th>num_passagem</th>\n",
       "      <th>tarifa</th>\n",
       "      <th>cabine</th>\n",
       "      <th>local_embarque</th>\n",
       "    </tr>\n",
       "  </thead>\n",
       "  <tbody>\n",
       "    <tr>\n",
       "      <th>0</th>\n",
       "      <td>1</td>\n",
       "      <td>0</td>\n",
       "      <td>3</td>\n",
       "      <td>Braund, Mr. Owen Harris</td>\n",
       "      <td>male</td>\n",
       "      <td>22.00000</td>\n",
       "      <td>1</td>\n",
       "      <td>0</td>\n",
       "      <td>A/5 21171</td>\n",
       "      <td>7.25000</td>\n",
       "      <td>NaN</td>\n",
       "      <td>S</td>\n",
       "    </tr>\n",
       "    <tr>\n",
       "      <th>1</th>\n",
       "      <td>2</td>\n",
       "      <td>1</td>\n",
       "      <td>1</td>\n",
       "      <td>Cumings, Mrs. John Bradley (Florence Briggs Th...</td>\n",
       "      <td>female</td>\n",
       "      <td>38.00000</td>\n",
       "      <td>1</td>\n",
       "      <td>0</td>\n",
       "      <td>PC 17599</td>\n",
       "      <td>71.28330</td>\n",
       "      <td>C85</td>\n",
       "      <td>C</td>\n",
       "    </tr>\n",
       "    <tr>\n",
       "      <th>2</th>\n",
       "      <td>3</td>\n",
       "      <td>1</td>\n",
       "      <td>3</td>\n",
       "      <td>Heikkinen, Miss. Laina</td>\n",
       "      <td>female</td>\n",
       "      <td>26.00000</td>\n",
       "      <td>0</td>\n",
       "      <td>0</td>\n",
       "      <td>STON/O2. 3101282</td>\n",
       "      <td>7.92500</td>\n",
       "      <td>NaN</td>\n",
       "      <td>S</td>\n",
       "    </tr>\n",
       "    <tr>\n",
       "      <th>3</th>\n",
       "      <td>4</td>\n",
       "      <td>1</td>\n",
       "      <td>1</td>\n",
       "      <td>Futrelle, Mrs. Jacques Heath (Lily May Peel)</td>\n",
       "      <td>female</td>\n",
       "      <td>35.00000</td>\n",
       "      <td>1</td>\n",
       "      <td>0</td>\n",
       "      <td>113803</td>\n",
       "      <td>53.10000</td>\n",
       "      <td>C123</td>\n",
       "      <td>S</td>\n",
       "    </tr>\n",
       "    <tr>\n",
       "      <th>4</th>\n",
       "      <td>5</td>\n",
       "      <td>0</td>\n",
       "      <td>3</td>\n",
       "      <td>Allen, Mr. William Henry</td>\n",
       "      <td>male</td>\n",
       "      <td>35.00000</td>\n",
       "      <td>0</td>\n",
       "      <td>0</td>\n",
       "      <td>373450</td>\n",
       "      <td>8.05000</td>\n",
       "      <td>NaN</td>\n",
       "      <td>S</td>\n",
       "    </tr>\n",
       "  </tbody>\n",
       "</table>\n",
       "</div>"
      ],
      "text/plain": [
       "   id  sobreviveu  classe                                               nome  \\\n",
       "0   1           0       3                            Braund, Mr. Owen Harris   \n",
       "1   2           1       1  Cumings, Mrs. John Bradley (Florence Briggs Th...   \n",
       "2   3           1       3                             Heikkinen, Miss. Laina   \n",
       "3   4           1       1       Futrelle, Mrs. Jacques Heath (Lily May Peel)   \n",
       "4   5           0       3                           Allen, Mr. William Henry   \n",
       "\n",
       "     sexo    idade  sibsp  parch      num_passagem   tarifa cabine  \\\n",
       "0    male 22.00000      1      0         A/5 21171  7.25000    NaN   \n",
       "1  female 38.00000      1      0          PC 17599 71.28330    C85   \n",
       "2  female 26.00000      0      0  STON/O2. 3101282  7.92500    NaN   \n",
       "3  female 35.00000      1      0            113803 53.10000   C123   \n",
       "4    male 35.00000      0      0            373450  8.05000    NaN   \n",
       "\n",
       "  local_embarque  \n",
       "0              S  \n",
       "1              C  \n",
       "2              S  \n",
       "3              S  \n",
       "4              S  "
      ]
     },
     "execution_count": 9,
     "metadata": {},
     "output_type": "execute_result"
    },
    {
     "data": {
      "text/html": [
       "<div>\n",
       "<style scoped>\n",
       "    .dataframe tbody tr th:only-of-type {\n",
       "        vertical-align: middle;\n",
       "    }\n",
       "\n",
       "    .dataframe tbody tr th {\n",
       "        vertical-align: top;\n",
       "    }\n",
       "\n",
       "    .dataframe thead th {\n",
       "        text-align: right;\n",
       "    }\n",
       "</style>\n",
       "<table border=\"1\" class=\"dataframe\">\n",
       "  <thead>\n",
       "    <tr style=\"text-align: right;\">\n",
       "      <th></th>\n",
       "      <th>id</th>\n",
       "      <th>classe</th>\n",
       "      <th>nome</th>\n",
       "      <th>sexo</th>\n",
       "      <th>idade</th>\n",
       "      <th>sibsp</th>\n",
       "      <th>parch</th>\n",
       "      <th>num_passagem</th>\n",
       "      <th>tarifa</th>\n",
       "      <th>cabine</th>\n",
       "      <th>local_embarque</th>\n",
       "    </tr>\n",
       "  </thead>\n",
       "  <tbody>\n",
       "    <tr>\n",
       "      <th>0</th>\n",
       "      <td>892</td>\n",
       "      <td>3</td>\n",
       "      <td>Kelly, Mr. James</td>\n",
       "      <td>male</td>\n",
       "      <td>34.50000</td>\n",
       "      <td>0</td>\n",
       "      <td>0</td>\n",
       "      <td>330911</td>\n",
       "      <td>7.82920</td>\n",
       "      <td>NaN</td>\n",
       "      <td>Q</td>\n",
       "    </tr>\n",
       "    <tr>\n",
       "      <th>1</th>\n",
       "      <td>893</td>\n",
       "      <td>3</td>\n",
       "      <td>Wilkes, Mrs. James (Ellen Needs)</td>\n",
       "      <td>female</td>\n",
       "      <td>47.00000</td>\n",
       "      <td>1</td>\n",
       "      <td>0</td>\n",
       "      <td>363272</td>\n",
       "      <td>7.00000</td>\n",
       "      <td>NaN</td>\n",
       "      <td>S</td>\n",
       "    </tr>\n",
       "    <tr>\n",
       "      <th>2</th>\n",
       "      <td>894</td>\n",
       "      <td>2</td>\n",
       "      <td>Myles, Mr. Thomas Francis</td>\n",
       "      <td>male</td>\n",
       "      <td>62.00000</td>\n",
       "      <td>0</td>\n",
       "      <td>0</td>\n",
       "      <td>240276</td>\n",
       "      <td>9.68750</td>\n",
       "      <td>NaN</td>\n",
       "      <td>Q</td>\n",
       "    </tr>\n",
       "    <tr>\n",
       "      <th>3</th>\n",
       "      <td>895</td>\n",
       "      <td>3</td>\n",
       "      <td>Wirz, Mr. Albert</td>\n",
       "      <td>male</td>\n",
       "      <td>27.00000</td>\n",
       "      <td>0</td>\n",
       "      <td>0</td>\n",
       "      <td>315154</td>\n",
       "      <td>8.66250</td>\n",
       "      <td>NaN</td>\n",
       "      <td>S</td>\n",
       "    </tr>\n",
       "    <tr>\n",
       "      <th>4</th>\n",
       "      <td>896</td>\n",
       "      <td>3</td>\n",
       "      <td>Hirvonen, Mrs. Alexander (Helga E Lindqvist)</td>\n",
       "      <td>female</td>\n",
       "      <td>22.00000</td>\n",
       "      <td>1</td>\n",
       "      <td>1</td>\n",
       "      <td>3101298</td>\n",
       "      <td>12.28750</td>\n",
       "      <td>NaN</td>\n",
       "      <td>S</td>\n",
       "    </tr>\n",
       "  </tbody>\n",
       "</table>\n",
       "</div>"
      ],
      "text/plain": [
       "    id  classe                                          nome    sexo    idade  \\\n",
       "0  892       3                              Kelly, Mr. James    male 34.50000   \n",
       "1  893       3              Wilkes, Mrs. James (Ellen Needs)  female 47.00000   \n",
       "2  894       2                     Myles, Mr. Thomas Francis    male 62.00000   \n",
       "3  895       3                              Wirz, Mr. Albert    male 27.00000   \n",
       "4  896       3  Hirvonen, Mrs. Alexander (Helga E Lindqvist)  female 22.00000   \n",
       "\n",
       "   sibsp  parch num_passagem   tarifa cabine local_embarque  \n",
       "0      0      0       330911  7.82920    NaN              Q  \n",
       "1      1      0       363272  7.00000    NaN              S  \n",
       "2      0      0       240276  9.68750    NaN              Q  \n",
       "3      0      0       315154  8.66250    NaN              S  \n",
       "4      1      1      3101298 12.28750    NaN              S  "
      ]
     },
     "execution_count": 9,
     "metadata": {},
     "output_type": "execute_result"
    }
   ],
   "source": [
    "df_train.head()\n",
    "df_test.head()"
   ]
  },
  {
   "cell_type": "markdown",
   "id": "a2591c4e-788e-4490-b178-91a2b03581ff",
   "metadata": {},
   "source": [
    "## 2. Exploratory Data Analysis (EDA)"
   ]
  },
  {
   "cell_type": "code",
   "execution_count": 13,
   "id": "2e92b82b-b5c7-4f73-9fbe-b86a0d5dda40",
   "metadata": {},
   "outputs": [],
   "source": [
    "df_train[['sobreviveu', 'classe']] = df_train[['sobreviveu', 'classe']].astype(str)"
   ]
  },
  {
   "cell_type": "code",
   "execution_count": 14,
   "id": "8fce3a33-d6d0-4ef5-b415-0736b7f6e631",
   "metadata": {},
   "outputs": [
    {
     "data": {
      "text/html": [
       "<div>\n",
       "<style scoped>\n",
       "    .dataframe tbody tr th:only-of-type {\n",
       "        vertical-align: middle;\n",
       "    }\n",
       "\n",
       "    .dataframe tbody tr th {\n",
       "        vertical-align: top;\n",
       "    }\n",
       "\n",
       "    .dataframe thead th {\n",
       "        text-align: right;\n",
       "    }\n",
       "</style>\n",
       "<table border=\"1\" class=\"dataframe\">\n",
       "  <thead>\n",
       "    <tr style=\"text-align: right;\">\n",
       "      <th></th>\n",
       "      <th>sobreviveu</th>\n",
       "      <th>classe</th>\n",
       "      <th>sexo</th>\n",
       "      <th>local_embarque</th>\n",
       "      <th>cabine</th>\n",
       "    </tr>\n",
       "  </thead>\n",
       "  <tbody>\n",
       "    <tr>\n",
       "      <th>count</th>\n",
       "      <td>891</td>\n",
       "      <td>891</td>\n",
       "      <td>891</td>\n",
       "      <td>889</td>\n",
       "      <td>204</td>\n",
       "    </tr>\n",
       "    <tr>\n",
       "      <th>unique</th>\n",
       "      <td>2</td>\n",
       "      <td>3</td>\n",
       "      <td>2</td>\n",
       "      <td>3</td>\n",
       "      <td>147</td>\n",
       "    </tr>\n",
       "    <tr>\n",
       "      <th>top</th>\n",
       "      <td>0</td>\n",
       "      <td>3</td>\n",
       "      <td>male</td>\n",
       "      <td>S</td>\n",
       "      <td>B96 B98</td>\n",
       "    </tr>\n",
       "    <tr>\n",
       "      <th>freq</th>\n",
       "      <td>549</td>\n",
       "      <td>491</td>\n",
       "      <td>577</td>\n",
       "      <td>644</td>\n",
       "      <td>4</td>\n",
       "    </tr>\n",
       "  </tbody>\n",
       "</table>\n",
       "</div>"
      ],
      "text/plain": [
       "       sobreviveu classe  sexo local_embarque   cabine\n",
       "count         891    891   891            889      204\n",
       "unique          2      3     2              3      147\n",
       "top             0      3  male              S  B96 B98\n",
       "freq          549    491   577            644        4"
      ]
     },
     "execution_count": 14,
     "metadata": {},
     "output_type": "execute_result"
    }
   ],
   "source": [
    "df_train[['sobreviveu', 'classe', 'sexo', 'local_embarque', 'cabine']].describe()"
   ]
  },
  {
   "cell_type": "code",
   "execution_count": 15,
   "id": "26f83f16-cc3b-44e4-8afb-aa124be9abd6",
   "metadata": {},
   "outputs": [
    {
     "data": {
      "text/html": [
       "<div>\n",
       "<style scoped>\n",
       "    .dataframe tbody tr th:only-of-type {\n",
       "        vertical-align: middle;\n",
       "    }\n",
       "\n",
       "    .dataframe tbody tr th {\n",
       "        vertical-align: top;\n",
       "    }\n",
       "\n",
       "    .dataframe thead th {\n",
       "        text-align: right;\n",
       "    }\n",
       "</style>\n",
       "<table border=\"1\" class=\"dataframe\">\n",
       "  <thead>\n",
       "    <tr style=\"text-align: right;\">\n",
       "      <th></th>\n",
       "      <th>idade</th>\n",
       "      <th>sibsp</th>\n",
       "      <th>parch</th>\n",
       "      <th>tarifa</th>\n",
       "    </tr>\n",
       "  </thead>\n",
       "  <tbody>\n",
       "    <tr>\n",
       "      <th>count</th>\n",
       "      <td>714.00000</td>\n",
       "      <td>891.00000</td>\n",
       "      <td>891.00000</td>\n",
       "      <td>891.00000</td>\n",
       "    </tr>\n",
       "    <tr>\n",
       "      <th>mean</th>\n",
       "      <td>29.69912</td>\n",
       "      <td>0.52301</td>\n",
       "      <td>0.38159</td>\n",
       "      <td>32.20421</td>\n",
       "    </tr>\n",
       "    <tr>\n",
       "      <th>std</th>\n",
       "      <td>14.52650</td>\n",
       "      <td>1.10274</td>\n",
       "      <td>0.80606</td>\n",
       "      <td>49.69343</td>\n",
       "    </tr>\n",
       "    <tr>\n",
       "      <th>min</th>\n",
       "      <td>0.42000</td>\n",
       "      <td>0.00000</td>\n",
       "      <td>0.00000</td>\n",
       "      <td>0.00000</td>\n",
       "    </tr>\n",
       "    <tr>\n",
       "      <th>25%</th>\n",
       "      <td>20.12500</td>\n",
       "      <td>0.00000</td>\n",
       "      <td>0.00000</td>\n",
       "      <td>7.91040</td>\n",
       "    </tr>\n",
       "    <tr>\n",
       "      <th>50%</th>\n",
       "      <td>28.00000</td>\n",
       "      <td>0.00000</td>\n",
       "      <td>0.00000</td>\n",
       "      <td>14.45420</td>\n",
       "    </tr>\n",
       "    <tr>\n",
       "      <th>75%</th>\n",
       "      <td>38.00000</td>\n",
       "      <td>1.00000</td>\n",
       "      <td>0.00000</td>\n",
       "      <td>31.00000</td>\n",
       "    </tr>\n",
       "    <tr>\n",
       "      <th>max</th>\n",
       "      <td>80.00000</td>\n",
       "      <td>8.00000</td>\n",
       "      <td>6.00000</td>\n",
       "      <td>512.32920</td>\n",
       "    </tr>\n",
       "  </tbody>\n",
       "</table>\n",
       "</div>"
      ],
      "text/plain": [
       "          idade     sibsp     parch    tarifa\n",
       "count 714.00000 891.00000 891.00000 891.00000\n",
       "mean   29.69912   0.52301   0.38159  32.20421\n",
       "std    14.52650   1.10274   0.80606  49.69343\n",
       "min     0.42000   0.00000   0.00000   0.00000\n",
       "25%    20.12500   0.00000   0.00000   7.91040\n",
       "50%    28.00000   0.00000   0.00000  14.45420\n",
       "75%    38.00000   1.00000   0.00000  31.00000\n",
       "max    80.00000   8.00000   6.00000 512.32920"
      ]
     },
     "execution_count": 15,
     "metadata": {},
     "output_type": "execute_result"
    }
   ],
   "source": [
    "df_train[['idade', 'sibsp', 'parch', 'tarifa']].describe()"
   ]
  },
  {
   "cell_type": "code",
   "execution_count": 73,
   "id": "57a1429d-f6c1-47ff-8b19-c4450e45a682",
   "metadata": {},
   "outputs": [
    {
     "data": {
      "text/plain": [
       "Text(0.5, 1.0, 'Contagem de Sobreviventes')"
      ]
     },
     "execution_count": 73,
     "metadata": {},
     "output_type": "execute_result"
    },
    {
     "data": {
      "text/plain": [
       "<AxesSubplot:title={'center':'Contagem de Sobreviventes'}, xlabel='sobreviveu', ylabel='count'>"
      ]
     },
     "execution_count": 73,
     "metadata": {},
     "output_type": "execute_result"
    },
    {
     "data": {
      "text/plain": [
       "Text(0.5, 1.0, 'Contagem por classe')"
      ]
     },
     "execution_count": 73,
     "metadata": {},
     "output_type": "execute_result"
    },
    {
     "data": {
      "text/plain": [
       "<AxesSubplot:title={'center':'Contagem por classe'}, xlabel='classe', ylabel='count'>"
      ]
     },
     "execution_count": 73,
     "metadata": {},
     "output_type": "execute_result"
    },
    {
     "data": {
      "text/plain": [
       "Text(0.5, 1.0, 'Contagem por sexo')"
      ]
     },
     "execution_count": 73,
     "metadata": {},
     "output_type": "execute_result"
    },
    {
     "data": {
      "text/plain": [
       "<AxesSubplot:title={'center':'Contagem por sexo'}, xlabel='sexo', ylabel='count'>"
      ]
     },
     "execution_count": 73,
     "metadata": {},
     "output_type": "execute_result"
    },
    {
     "data": {
      "text/plain": [
       "Text(0.5, 1.0, 'Contagem por local de embarque')"
      ]
     },
     "execution_count": 73,
     "metadata": {},
     "output_type": "execute_result"
    },
    {
     "data": {
      "text/plain": [
       "<AxesSubplot:title={'center':'Contagem por local de embarque'}, xlabel='local_embarque', ylabel='count'>"
      ]
     },
     "execution_count": 73,
     "metadata": {},
     "output_type": "execute_result"
    },
    {
     "data": {
      "text/plain": [
       "<AxesSubplot:xlabel='sobreviveu'>"
      ]
     },
     "execution_count": 73,
     "metadata": {},
     "output_type": "execute_result"
    },
    {
     "data": {
      "text/plain": [
       "Text(0.5, 1.0, 'Sobrevientes por sexo')"
      ]
     },
     "execution_count": 73,
     "metadata": {},
     "output_type": "execute_result"
    },
    {
     "data": {
      "text/plain": [
       "Text(0, 0.5, 'count')"
      ]
     },
     "execution_count": 73,
     "metadata": {},
     "output_type": "execute_result"
    },
    {
     "data": {
      "text/plain": [
       "<AxesSubplot:xlabel='sobreviveu'>"
      ]
     },
     "execution_count": 73,
     "metadata": {},
     "output_type": "execute_result"
    },
    {
     "data": {
      "text/plain": [
       "Text(0.5, 1.0, 'Sobrevientes por classe')"
      ]
     },
     "execution_count": 73,
     "metadata": {},
     "output_type": "execute_result"
    },
    {
     "data": {
      "text/plain": [
       "Text(0, 0.5, 'count')"
      ]
     },
     "execution_count": 73,
     "metadata": {},
     "output_type": "execute_result"
    },
    {
     "data": {
      "image/png": "[encoded data removed]",
      "text/plain": [
       "<Figure size 648x864 with 4 Axes>"
      ]
     },
     "metadata": {
      "needs_background": "light"
     },
     "output_type": "display_data"
    },
    {
     "data": {
      "image/png": "[encoded data removed]",
      "text/plain": [
       "<Figure size 432x288 with 1 Axes>"
      ]
     },
     "metadata": {
      "needs_background": "light"
     },
     "output_type": "display_data"
    },
    {
     "data": {
      "image/png": "[encoded data removed]",
      "text/plain": [
       "<Figure size 432x288 with 1 Axes>"
      ]
     },
     "metadata": {
      "needs_background": "light"
     },
     "output_type": "display_data"
    }
   ],
   "source": [
    "fig, axes = plt.subplots(2, 2, figsize=(9, 12))\n",
    "\n",
    "axes[0, 0].set_title('Contagem de Sobreviventes')\n",
    "sns.countplot(\n",
    "    x='sobreviveu',\n",
    "    data=df_train,\n",
    "    palette='copper',   \n",
    "    ax=axes[0, 0]\n",
    ")\n",
    "\n",
    "axes[0, 1].set_title('Contagem por classe')\n",
    "sns.countplot(\n",
    "    x='classe',\n",
    "    data=df_train,\n",
    "    palette='copper',   \n",
    "    linewidth=2,\n",
    "    ax=axes[0, 1]\n",
    ")\n",
    "\n",
    "axes[1, 0].set_title('Contagem por sexo')\n",
    "sns.countplot(\n",
    "    x='sexo',\n",
    "    data=df_train,\n",
    "    palette='copper',   \n",
    "    linewidth=2,\n",
    "    ax=axes[1, 0]\n",
    ")\n",
    "\n",
    "axes[1, 1].set_title('Contagem por local de embarque')\n",
    "sns.countplot(\n",
    "    x='local_embarque',\n",
    "    data=df_train,\n",
    "    palette='copper',   \n",
    "    linewidth=2,\n",
    "    ax=axes[1, 1]\n",
    ")\n",
    "\n",
    "\n",
    "df_plot = df_train.groupby(['sexo', 'sobreviveu']).size().reset_index().pivot(columns='sexo', index='sobreviveu', values=0)\n",
    "df_plot.plot(\n",
    "    kind='bar',\n",
    "    stacked=True,\n",
    "    colormap='copper'\n",
    "    \n",
    ")\n",
    "plt.title('Sobrevientes por sexo')\n",
    "plt.ylabel('count')\n",
    "\n",
    "df_plot2 = df_train.groupby(['classe', 'sobreviveu']).size().reset_index().pivot(columns='classe', index='sobreviveu', values=0)\n",
    "df_plot2.plot(\n",
    "    kind='bar',\n",
    "    stacked=True,\n",
    "    colormap='copper'\n",
    "    \n",
    ")\n",
    "plt.title('Sobrevientes por classe')\n",
    "plt.ylabel('count')\n",
    "#plt.tight_layout(pad=3)"
   ]
  },
  {
   "cell_type": "markdown",
   "id": "7de0843d-4d1d-4345-ac84-8e268543caf1",
   "metadata": {},
   "source": [
    "**Conclusões:**\n",
    "1. Morreu quase 62% dos passageiros"
   ]
  }
 ],
 "metadata": {
  "kernelspec": {
   "display_name": "Python 3",
   "language": "python",
   "name": "python3"
  },
  "language_info": {
   "codemirror_mode": {
    "name": "ipython",
    "version": 3
   },
   "file_extension": ".py",
   "mimetype": "text/x-python",
   "name": "python",
   "nbconvert_exporter": "python",
   "pygments_lexer": "ipython3",
   "version": "3.8.8"
  },
  "toc-autonumbering": false,
  "toc-showmarkdowntxt": false
 },
 "nbformat": 4,
 "nbformat_minor": 5
}
